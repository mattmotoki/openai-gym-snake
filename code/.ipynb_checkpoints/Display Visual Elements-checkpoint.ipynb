{
 "cells": [
  {
   "cell_type": "markdown",
   "metadata": {},
   "source": []
  },
  {
   "cell_type": "code",
   "execution_count": 3,
   "metadata": {},
   "outputs": [],
   "source": [
    "import sys"
   ]
  },
  {
   "cell_type": "code",
   "execution_count": 44,
   "metadata": {},
   "outputs": [
    {
     "name": "stdout",
     "output_type": "stream",
     "text": [
      "┌───────┐\n",
      "│       │\n",
      "└───────┘\n"
     ]
    }
   ],
   "source": [
    "# single lines\n",
    "test = [\n",
    "    u'\\u250c\\u2500\\u2500\\u2500\\u2510\\n',\n",
    "    u'\\u2502\\u0020\\u0020\\u0020\\u2502\\n',\n",
    "    u'\\u2514\\u2500\\u2500\\u2500\\u2518\\n',\n",
    "]\n",
    "outfile = sys.stdout = sys.stdout\n",
    "for i in test:\n",
    "    sys.stdout.writelines(i)"
   ]
  },
  {
   "cell_type": "code",
   "execution_count": 45,
   "metadata": {},
   "outputs": [
    {
     "name": "stdout",
     "output_type": "stream",
     "text": [
      "╔═══╗\n",
      "║   ║\n",
      "╚═══╝\n"
     ]
    }
   ],
   "source": [
    "# doube lines\n",
    "test = [\n",
    "    u'\\u2554\\u2550\\u2550\\u2550\\u2557\\n',\n",
    "    u'\\u2551\\u0020\\u0020\\u0020\\u2551\\n',\n",
    "    u'\\u255a\\u2550\\u2550\\u2550\\u255d\\n',\n",
    "]\n",
    "outfile = sys.stdout = sys.stdout\n",
    "for i in test:\n",
    "    sys.stdout.writelines(i)    "
   ]
  },
  {
   "cell_type": "code",
   "execution_count": 6,
   "metadata": {},
   "outputs": [
    {
     "name": "stdout",
     "output_type": "stream",
     "text": [
      "▛▀▀▀▜\n",
      "▌   ▐\n",
      "▙▄▄▄▟\n"
     ]
    }
   ],
   "source": [
    "# block elements\n",
    "test = [\n",
    "    u'\\u259b\\u2580\\u2580\\u2580\\u259c\\n',\n",
    "    u'\\u258c\\u0020\\u0020\\u0020\\u2590\\n',\n",
    "    u'\\u2599\\u2584\\u2584\\u2584\\u259f\\n',\n",
    "]\n",
    "outfile = sys.stdout = sys.stdout\n",
    "for i in test:\n",
    "    sys.stdout.writelines(i)    "
   ]
  },
  {
   "cell_type": "code",
   "execution_count": 43,
   "metadata": {},
   "outputs": [
    {
     "name": "stdout",
     "output_type": "stream",
     "text": [
      "← ↑ → ↓\n",
      "⇐ ⇑ ⇒ ⇓\n",
      "⇦ ⇧ ⇨ ⇩\n",
      "⬅ ⬆ ➡ ⬇\n",
      "⯅ ⯆ ⯇ ⯈\n",
      "⭠ ⭡ ⭢ ⭣\n"
     ]
    }
   ],
   "source": [
    "print(u'\\u2190 \\u2191 \\u2192 \\u2193')\n",
    "print(u'\\u21D0 \\u21D1 \\u21D2 \\u21D3')\n",
    "print(u'\\u21E6 \\u21E7 \\u21E8 \\u21E9')\n",
    "print(u'\\u2B05 \\u2B06 \\u27A1 \\u2B07')\n",
    "print(u'\\u2BC5 \\u2BC6 \\u2BC7 \\u2BC8') # spacing is messed up\n",
    "print(u'\\u2B60 \\u2B61 \\u2B62 \\u2B63') # spacing is messed up"
   ]
  },
  {
   "cell_type": "code",
   "execution_count": null,
   "metadata": {},
   "outputs": [],
   "source": []
  },
  {
   "cell_type": "markdown",
   "metadata": {},
   "source": [
    "A human readable state print out is composed of `← ↑ → ↓`. For example, \n",
    "```\n",
    "o ↓ → → ↓\n",
    "↑ → ↑   ↓\n",
    "↑ ↓ ← ← ↓\n",
    "↑ ↓   ↑ ←\n",
    "↑ ←\n",
    "```\n",
    "\n",
    "\n",
    "A human readable board print out is composed of `┌ ┐└  ┘ ─ │`. For example, \n",
    "```\n",
    "o │ ┌ ─ ┐\n",
    "│ └ ┘   │\n",
    "│ ┌ ─ ┐ │\n",
    "│ │   └ ┘\n",
    "└ ┘\n",
    "```\n",
    "```\n",
    "o │ ┌───┐\n",
    "│ └─┘   │\n",
    "│ ┌───┐ │\n",
    "│ │   └─┘\n",
    "└─┘\n",
    "```"
   ]
  },
  {
   "cell_type": "markdown",
   "metadata": {},
   "source": [
    "\n",
    "\n",
    "```\n",
    "o ⇩ ⇨ ⇨ ⇩\n",
    "⇧ ⇨ ⇧   ⇩\n",
    "⇧ ⇩ ⇦ ⇦ ⇩\n",
    "⇧ ⇩   ⇧ ⇦\n",
    "⇧ ⇦\n",
    "```\n",
    "\n",
    "```\n",
    "o ⬇ ➡ ➡ ⬇\n",
    "⬆ ➡ ⬆   ⬇\n",
    "⬆ ⬇ ⬅ ⬅ ⬇\n",
    "⬆ ⬇   ⬆ ⬅\n",
    "⬆ ⬅\n",
    "```\n",
    "\n",
    "```\n",
    "o ⯆ ⯈ ⯈ ⯆\n",
    "⯅ ⯈ ⯅   ⯆\n",
    "⯅ ⯆ ⯇ ⯇ ⯆\n",
    "⯅ ⯆   ⯅ ⯇\n",
    "⯅ ⯇\n",
    "```"
   ]
  },
  {
   "cell_type": "markdown",
   "metadata": {},
   "source": [
    "\n",
    "```\n",
    "o ║ ╔═══╗\n",
    "║ ╚ ╝   ║\n",
    "║ ╔═══╗ ║\n",
    "║ ║   ╚═╝\n",
    "╚═╝\n",
    "```"
   ]
  },
  {
   "cell_type": "code",
   "execution_count": null,
   "metadata": {},
   "outputs": [],
   "source": []
  }
 ],
 "metadata": {
  "kernelspec": {
   "display_name": "Python 3",
   "language": "python",
   "name": "python3"
  },
  "language_info": {
   "codemirror_mode": {
    "name": "ipython",
    "version": 3
   },
   "file_extension": ".py",
   "mimetype": "text/x-python",
   "name": "python",
   "nbconvert_exporter": "python",
   "pygments_lexer": "ipython3",
   "version": "3.6.5"
  }
 },
 "nbformat": 4,
 "nbformat_minor": 2
}
