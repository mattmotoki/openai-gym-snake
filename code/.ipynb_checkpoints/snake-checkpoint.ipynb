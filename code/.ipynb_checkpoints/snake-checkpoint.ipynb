{
 "cells": [
  {
   "cell_type": "markdown",
   "metadata": {},
   "source": [
    "### Action space\n",
    "\n",
    "The action-space is (0, 1, 2, 3) which correspond to:\n",
    "\n",
    "| action | keyboard | game board |\n",
    "| ------ | -------- | ---------- |\n",
    "| 0      | w        | up         |\n",
    "| 1      | a        | left       |\n",
    "| 2      | s        | down       |\n",
    "| 3      | d        | right      |\n",
    "\n",
    "### State space\n",
    "The state could represented as grid of actions, where 4 gets mapped to unoccupied\n",
    "\n",
    "\n",
    "| action | game board |\n",
    "| ------ | ---------- |\n",
    "| -3     | food       |\n",
    "| -2     | empty      |\n",
    "| -1      | head       |\n",
    "| 0      | up         |\n",
    "| 1      | left       |\n",
    "| 2      | down       |\n",
    "| 3      | right      |\n",
    "\n",
    "\n",
    "Alternatively we could use a list of the last actions $n$ actions where $n$ is the total score of the snake plus the snakes initial length.\n",
    "\n",
    "### Alternative state representations\n",
    "\n",
    "For recurrent neural networks the following state might make sense:\n",
    "\n",
    "\n",
    "\n",
    "### Features\n",
    "Possible useful features:\n",
    "* distance from head to to food\n",
    "Possible useful features:\n",
    "\n",
    "* distance from head to to food\n",
    "* time until body-coordinate disappears\n",
    "\n",
    "For recurrent neural network:\n",
    "\n",
    "* a list of (x, y) snake-coordinates\n",
    "* the position of the food\n",
    "\n",
    "For convolutional neural networks:\n",
    "* binary grid with snake body coordinates\n",
    "* binary grid with snake head location\n",
    "* binary grid with food location"
   ]
  },
  {
   "cell_type": "code",
   "execution_count": 4,
   "metadata": {},
   "outputs": [],
   "source": [
    "import sys\n",
    "import numpy as np\n",
    "from gym import utils\n",
    "from gym.spaces import Box, Discrete"
   ]
  },
  {
   "cell_type": "code",
   "execution_count": 5,
   "metadata": {},
   "outputs": [
    {
     "name": "stdout",
     "output_type": "stream",
     "text": [
      "-3 food\n",
      "-2 empty\n",
      "-1 head\n",
      "0 up\n",
      "1 left\n",
      "2 down\n",
      "3 right\n"
     ]
    }
   ],
   "source": [
    "state2text = {\n",
    "    -3: 'food',    \n",
    "    -2: 'empty',\n",
    "    -1:  'head',    \n",
    "    0:  'up',    \n",
    "    1:  'left',\n",
    "    2:  'down',\n",
    "    3:  'right',\n",
    "}    \n",
    "\n",
    "for state, text in state2text.items():\n",
    "    print(state, text)"
   ]
  },
  {
   "cell_type": "code",
   "execution_count": 14,
   "metadata": {},
   "outputs": [
    {
     "ename": "KeyError",
     "evalue": "'fuschia'",
     "output_type": "error",
     "traceback": [
      "\u001b[0;31m-------------------------------------------------------------------\u001b[0m",
      "\u001b[0;31mKeyError\u001b[0m                          Traceback (most recent call last)",
      "\u001b[0;32m<ipython-input-14-e5e682d52861>\u001b[0m in \u001b[0;36m<module>\u001b[0;34m()\u001b[0m\n\u001b[1;32m      1\u001b[0m state2symbol = {\n\u001b[0;32m----> 2\u001b[0;31m     \u001b[0;34m-\u001b[0m\u001b[0;36m3\u001b[0m\u001b[0;34m:\u001b[0m \u001b[0mutils\u001b[0m\u001b[0;34m.\u001b[0m\u001b[0mcolorize\u001b[0m\u001b[0;34m(\u001b[0m\u001b[0;34mu'\\u204E'\u001b[0m\u001b[0;34m,\u001b[0m \u001b[0;34m'fuschia'\u001b[0m\u001b[0;34m)\u001b[0m\u001b[0;34m,\u001b[0m \u001b[0;31m# \\, u25CF, \\u25CB, \\u25CF\u001b[0m\u001b[0;34m\u001b[0m\u001b[0m\n\u001b[0m\u001b[1;32m      3\u001b[0m     \u001b[0;34m-\u001b[0m\u001b[0;36m2\u001b[0m\u001b[0;34m:\u001b[0m \u001b[0mutils\u001b[0m\u001b[0;34m.\u001b[0m\u001b[0mcolorize\u001b[0m\u001b[0;34m(\u001b[0m\u001b[0;34mu'\\u00B7'\u001b[0m\u001b[0;34m,\u001b[0m \u001b[0;34m'white'\u001b[0m\u001b[0;34m)\u001b[0m\u001b[0;34m,\u001b[0m \u001b[0;31m# \\u002A, \\u0020, \\u1F784, \\u2022\u001b[0m\u001b[0;34m\u001b[0m\u001b[0m\n\u001b[1;32m      4\u001b[0m     \u001b[0;34m-\u001b[0m\u001b[0;36m1\u001b[0m\u001b[0;34m:\u001b[0m \u001b[0mutils\u001b[0m\u001b[0;34m.\u001b[0m\u001b[0mcolorize\u001b[0m\u001b[0;34m(\u001b[0m\u001b[0;34mu'\\u2689'\u001b[0m\u001b[0;34m,\u001b[0m \u001b[0;34m'green'\u001b[0m\u001b[0;34m)\u001b[0m\u001b[0;34m,\u001b[0m \u001b[0;31m# \\u25CF, \\u25CB, \\u2687\u001b[0m\u001b[0;34m\u001b[0m\u001b[0m\n\u001b[1;32m      5\u001b[0m     \u001b[0;36m0\u001b[0m\u001b[0;34m:\u001b[0m  \u001b[0mutils\u001b[0m\u001b[0;34m.\u001b[0m\u001b[0mcolorize\u001b[0m\u001b[0;34m(\u001b[0m\u001b[0;34mu'\\u2191'\u001b[0m\u001b[0;34m,\u001b[0m \u001b[0;34m'green'\u001b[0m\u001b[0;34m)\u001b[0m\u001b[0;34m,\u001b[0m\u001b[0;34m\u001b[0m\u001b[0m\n",
      "\u001b[0;32m~/anaconda3/lib/python3.6/site-packages/gym/utils/colorize.py\u001b[0m in \u001b[0;36mcolorize\u001b[0;34m(string, color, bold, highlight)\u001b[0m\n\u001b[1;32m     28\u001b[0m \u001b[0;34m\u001b[0m\u001b[0m\n\u001b[1;32m     29\u001b[0m     \u001b[0mattr\u001b[0m \u001b[0;34m=\u001b[0m \u001b[0;34m[\u001b[0m\u001b[0;34m]\u001b[0m\u001b[0;34m\u001b[0m\u001b[0m\n\u001b[0;32m---> 30\u001b[0;31m     \u001b[0mnum\u001b[0m \u001b[0;34m=\u001b[0m \u001b[0mcolor2num\u001b[0m\u001b[0;34m[\u001b[0m\u001b[0mcolor\u001b[0m\u001b[0;34m]\u001b[0m\u001b[0;34m\u001b[0m\u001b[0m\n\u001b[0m\u001b[1;32m     31\u001b[0m     \u001b[0;32mif\u001b[0m \u001b[0mhighlight\u001b[0m\u001b[0;34m:\u001b[0m \u001b[0mnum\u001b[0m \u001b[0;34m+=\u001b[0m \u001b[0;36m10\u001b[0m\u001b[0;34m\u001b[0m\u001b[0m\n\u001b[1;32m     32\u001b[0m     \u001b[0mattr\u001b[0m\u001b[0;34m.\u001b[0m\u001b[0mappend\u001b[0m\u001b[0;34m(\u001b[0m\u001b[0msix\u001b[0m\u001b[0;34m.\u001b[0m\u001b[0mu\u001b[0m\u001b[0;34m(\u001b[0m\u001b[0mstr\u001b[0m\u001b[0;34m(\u001b[0m\u001b[0mnum\u001b[0m\u001b[0;34m)\u001b[0m\u001b[0;34m)\u001b[0m\u001b[0;34m)\u001b[0m\u001b[0;34m\u001b[0m\u001b[0m\n",
      "\u001b[0;31mKeyError\u001b[0m: 'fuschia'"
     ]
    }
   ],
   "source": [
    "state2symbol = {\n",
    "    -3: utils.colorize(u'\\u204E', 'cyan'), # \\, u25CF, \\u25CB, \\u25CF\n",
    "    -2: utils.colorize(u'\\u00B7', 'gray'), # \\u002A, \\u0020, \\u1F784, \\u2022\n",
    "    -1: utils.colorize(u'\\u2689', 'green'), # \\u25CF, \\u25CB, \\u2687\n",
    "    0:  utils.colorize(u'\\u2191', 'green'), \n",
    "    1:  utils.colorize(u'\\u2190', 'green'),\n",
    "    2:  utils.colorize(u'\\u2193', 'green'),\n",
    "    3:  utils.colorize(u'\\u2192', 'green'),\n",
    "}\n",
    "\n",
    "for state, symbol in state2symbol.items():\n",
    "    print(state, symbol)"
   ]
  },
  {
   "cell_type": "code",
   "execution_count": null,
   "metadata": {},
   "outputs": [],
   "source": []
  },
  {
   "cell_type": "code",
   "execution_count": 7,
   "metadata": {},
   "outputs": [
    {
     "name": "stdout",
     "output_type": "stream",
     "text": [
      "0 up\n",
      "1 left\n",
      "2 down\n",
      "3 right\n"
     ]
    }
   ],
   "source": [
    "action2text = {\n",
    "    0: 'up',    \n",
    "    1: 'left',\n",
    "    2: 'down',\n",
    "    3: 'right',\n",
    "}\n",
    "\n",
    "for action, text in action2text.items():\n",
    "    print(action, text)"
   ]
  },
  {
   "cell_type": "code",
   "execution_count": 8,
   "metadata": {},
   "outputs": [
    {
     "name": "stdout",
     "output_type": "stream",
     "text": [
      "(0, 3) \u001b[32m┌\u001b[0m up right\n",
      "(1, 2) \u001b[32m┌\u001b[0m left down\n",
      "(0, 1) \u001b[32m┐\u001b[0m up left\n",
      "(3, 2) \u001b[32m┐\u001b[0m right down\n",
      "(2, 3) \u001b[32m└\u001b[0m down right\n",
      "(1, 0) \u001b[32m└\u001b[0m left up\n",
      "(2, 1) \u001b[32m┘\u001b[0m down left\n",
      "(3, 0) \u001b[32m┘\u001b[0m right up\n",
      "(1, 1) \u001b[32m─\u001b[0m left left\n",
      "(3, 3) \u001b[32m─\u001b[0m right right\n",
      "(0, 0) \u001b[32m│\u001b[0m up up\n",
      "(2, 2) \u001b[32m│\u001b[0m down down\n"
     ]
    }
   ],
   "source": [
    "actseq2symbol = {\n",
    "    (0, 3): utils.colorize(u'\\u250c', 'green'),\n",
    "    (1, 2): utils.colorize(u'\\u250c', 'green'),\n",
    "    (0, 1): utils.colorize(u'\\u2510', 'green'),    \n",
    "    (3, 2): utils.colorize(u'\\u2510', 'green'),\n",
    "    (2, 3): utils.colorize(u'\\u2514', 'green'),\n",
    "    (1, 0): utils.colorize(u'\\u2514', 'green'),   \n",
    "    (2, 1): utils.colorize(u'\\u2518', 'green'),\n",
    "    (3, 0): utils.colorize(u'\\u2518', 'green'),\n",
    "    (1, 1): utils.colorize(u'\\u2500', 'green'),\n",
    "    (3, 3): utils.colorize(u'\\u2500', 'green'),\n",
    "    (0, 0): utils.colorize(u'\\u2502', 'green'),        \n",
    "    (2, 2): utils.colorize(u'\\u2502', 'green'),\n",
    "}\n",
    "\n",
    "for (ai, aj), b in actseq2symbol.items():\n",
    "    ti = action2text[ai]\n",
    "    tj = action2text[aj]\n",
    "    print((ai,aj), b, ti,tj)"
   ]
  },
  {
   "cell_type": "code",
   "execution_count": 9,
   "metadata": {},
   "outputs": [
    {
     "data": {
      "text/plain": [
       "array([[ 0,  1,  0,  0,  0,  0],\n",
       "       [ 0,  2,  2,  0,  1,  0],\n",
       "       [ 0,  2, -2, -2, -2,  1],\n",
       "       [ 1,  2,  2,  1,  0,  1],\n",
       "       [-2,  0, -2,  2,  0,  0],\n",
       "       [-1,  1,  0,  0, -2,  0]])"
      ]
     },
     "execution_count": 9,
     "metadata": {},
     "output_type": "execute_result"
    }
   ],
   "source": [
    "def render(s, score=0, mode='human'):\n",
    "    outfile = sys.stdout\n",
    "    outfile.write(f'Score: {score}')\n",
    "    line = f\"\\n+{'-'*s.shape[1]}+\"\n",
    "    outfile.write(line)\n",
    "    for row in s.tolist():\n",
    "        x = [state2symbol[i] for i in row]\n",
    "        x = f\"\\n|{''.join(x)}|\"\n",
    "        outfile.write(x)\n",
    "    outfile.write(line)\n",
    "    \n",
    "\n",
    "m, n = 6, 6    \n",
    "state_space = Box(low=-3, high=2, shape=(m,n), dtype=np.int64)\n",
    "x = state_space.sample()\n",
    "x"
   ]
  },
  {
   "cell_type": "code",
   "execution_count": null,
   "metadata": {},
   "outputs": [],
   "source": []
  },
  {
   "cell_type": "code",
   "execution_count": 60,
   "metadata": {},
   "outputs": [
    {
     "data": {
      "text/plain": [
       "3"
      ]
     },
     "execution_count": 60,
     "metadata": {},
     "output_type": "execute_result"
    }
   ],
   "source": [
    "action_space = Discrete(4)\n",
    "action_space.sample()"
   ]
  },
  {
   "cell_type": "code",
   "execution_count": 61,
   "metadata": {},
   "outputs": [
    {
     "data": {
      "text/plain": [
       "1"
      ]
     },
     "execution_count": 61,
     "metadata": {},
     "output_type": "execute_result"
    }
   ],
   "source": [
    "# setup user input \n",
    "from IPython.display import clear_output\n",
    "import sys\n",
    "\n",
    "key2action = {'w': 0, 'a':1, 's':2, 'd':3}\n",
    "def get_input():\n",
    "    \n",
    "    x = input('Enter move: ')\n",
    "    clear_output()\n",
    "\n",
    "    if x=='q':\n",
    "        sys.exit('Thanks for playing!')\n",
    "    elif x in ('w','a','s','d'):\n",
    "        return key2action[x]\n",
    "    else:\n",
    "        return get_input()\n",
    "\n",
    "get_input()"
   ]
  },
  {
   "cell_type": "code",
   "execution_count": 62,
   "metadata": {},
   "outputs": [],
   "source": [
    "action_seq = [2, 3, 0, 3, 2, 2, 2, 1, 0, 1, 2, 2, 1, 0, 0, 0]\n",
    "\n",
    "snake_seq = [(0,1)]\n",
    "for a in action_seq:\n",
    "    i, j = snake_seq[-1]    \n",
    "    if a==0:   i-=1 # up\n",
    "    elif a==1: j-=1 # left\n",
    "    elif a==2: i+=1 # down\n",
    "    elif a==3: j+=1 # right\n",
    "    snake_seq.append((i,j))\n",
    "\n",
    "symbol_seq = [actseq2symbol[(0,0)]]\n",
    "for ai,aj in zip(action_seq[:-1], action_seq[1:]):\n",
    "    symbol = actseq2symbol[(ai,aj)]\n",
    "    symbol_seq.append(symbol)"
   ]
  },
  {
   "cell_type": "code",
   "execution_count": 63,
   "metadata": {},
   "outputs": [],
   "source": [
    "# generate test game\n",
    "initial_length = 3\n",
    "info = {\n",
    "    'food': (5,4),\n",
    "    'snake_seq': snake_seq,\n",
    "    'action_seq': action_seq, \n",
    "    'symbol_seq': symbol_seq,\n",
    "    'snake_length': len(snake_seq)+initial_length\n",
    "}"
   ]
  },
  {
   "cell_type": "code",
   "execution_count": 64,
   "metadata": {
    "scrolled": true
   },
   "outputs": [
    {
     "name": "stdout",
     "output_type": "stream",
     "text": [
      "Score: 0\n",
      "+------+\n",
      "|\u001b[37m·\u001b[0m\u001b[32m↓\u001b[0m\u001b[32m→\u001b[0m\u001b[32m↓\u001b[0m\u001b[37m·\u001b[0m\u001b[37m·\u001b[0m|\n",
      "|\u001b[32m⚉\u001b[0m\u001b[32m→\u001b[0m\u001b[32m↑\u001b[0m\u001b[32m↓\u001b[0m\u001b[37m·\u001b[0m\u001b[37m·\u001b[0m|\n",
      "|\u001b[32m↑\u001b[0m\u001b[32m↓\u001b[0m\u001b[32m←\u001b[0m\u001b[32m↓\u001b[0m\u001b[37m·\u001b[0m\u001b[37m·\u001b[0m|\n",
      "|\u001b[32m↑\u001b[0m\u001b[32m↓\u001b[0m\u001b[32m↑\u001b[0m\u001b[32m←\u001b[0m\u001b[37m·\u001b[0m\u001b[37m·\u001b[0m|\n",
      "|\u001b[32m↑\u001b[0m\u001b[32m←\u001b[0m\u001b[37m·\u001b[0m\u001b[37m·\u001b[0m\u001b[37m·\u001b[0m\u001b[37m·\u001b[0m|\n",
      "|\u001b[37m·\u001b[0m\u001b[37m·\u001b[0m\u001b[37m·\u001b[0m\u001b[37m·\u001b[0m\u001b[36m●\u001b[0m\u001b[37m·\u001b[0m|\n",
      "+------+\n"
     ]
    }
   ],
   "source": [
    "def info2state(info):\n",
    "    s = -2*np.ones((m,n), dtype=np.int64)\n",
    "    \n",
    "    # add snake body\n",
    "    for (i,j), a in zip(info['snake_seq'], info['action_seq']):\n",
    "        s[i,j] = a\n",
    "\n",
    "    # add snake head    \n",
    "    i,j = info['snake_seq'][-1]\n",
    "    s[i,j] = -1\n",
    "\n",
    "    # add food\n",
    "    i,j = info['food']    \n",
    "    s[i,j] = -3\n",
    "    \n",
    "    return s\n",
    "\n",
    "def render(state, score=0, mode='human'):\n",
    "    outfile = sys.stdout\n",
    "    outfile.write(f'Score: {score}\\n')\n",
    "    line = f\"+{'-'*state.shape[1]}+\\n\"\n",
    "    outfile.write(line)\n",
    "    for row in state.tolist():\n",
    "        row = [state2symbol[i] for i in row]\n",
    "        x = f\"|{''.join(row)}|\\n\"\n",
    "        outfile.write(x)\n",
    "    outfile.write(line)\n",
    "    \n",
    "# display state\n",
    "state = info2state(info)\n",
    "render(state)        "
   ]
  },
  {
   "cell_type": "code",
   "execution_count": 65,
   "metadata": {},
   "outputs": [
    {
     "name": "stdout",
     "output_type": "stream",
     "text": [
      "Score: 0\n",
      "+------+\n",
      "|\u001b[37m·\u001b[0m\u001b[32m│\u001b[0m\u001b[32m┌\u001b[0m\u001b[32m┐\u001b[0m\u001b[37m·\u001b[0m\u001b[37m·\u001b[0m|\n",
      "|\u001b[32m⚉\u001b[0m\u001b[32m└\u001b[0m\u001b[32m┘\u001b[0m\u001b[32m│\u001b[0m\u001b[37m·\u001b[0m\u001b[37m·\u001b[0m|\n",
      "|\u001b[32m│\u001b[0m\u001b[32m┌\u001b[0m\u001b[32m┐\u001b[0m\u001b[32m│\u001b[0m\u001b[37m·\u001b[0m\u001b[37m·\u001b[0m|\n",
      "|\u001b[32m│\u001b[0m\u001b[32m│\u001b[0m\u001b[32m└\u001b[0m\u001b[32m┘\u001b[0m\u001b[37m·\u001b[0m\u001b[37m·\u001b[0m|\n",
      "|\u001b[32m└\u001b[0m\u001b[32m┘\u001b[0m\u001b[37m·\u001b[0m\u001b[37m·\u001b[0m\u001b[37m·\u001b[0m\u001b[37m·\u001b[0m|\n",
      "|\u001b[37m·\u001b[0m\u001b[37m·\u001b[0m\u001b[37m·\u001b[0m\u001b[37m·\u001b[0m\u001b[36m●\u001b[0m\u001b[37m·\u001b[0m|\n",
      "+------+\n"
     ]
    }
   ],
   "source": [
    "def info2board(info):\n",
    "    b = np.full((m, n), state2symbol[-2], dtype='<U16')\n",
    "    \n",
    "    # add snake body\n",
    "    for (i,j), s in zip(info['snake_seq'], info['symbol_seq']):\n",
    "        b[i,j] = s\n",
    "\n",
    "    # add snake head    \n",
    "    i,j = info['snake_seq'][-1]\n",
    "    b[i,j] = state2symbol[-1]\n",
    "\n",
    "    # add food\n",
    "    i,j = info['food']    \n",
    "    b[i,j] = state2symbol[-3]\n",
    "    \n",
    "    return b\n",
    "\n",
    "def render_board(board, score=0):\n",
    "    outfile = sys.stdout\n",
    "    outfile.write(f'Score: {score}\\n')\n",
    "    line = f\"+{'-'*board.shape[1]}+\\n\"\n",
    "    outfile.write(line)\n",
    "    for row in board.tolist():\n",
    "        x = f\"|{''.join(row)}|\\n\"\n",
    "        outfile.write(x)\n",
    "    outfile.write(line)    \n",
    "        \n",
    "# display board\n",
    "board = info2board(info)\n",
    "render_board(board)    "
   ]
  },
  {
   "cell_type": "code",
   "execution_count": 66,
   "metadata": {},
   "outputs": [
    {
     "name": "stdout",
     "output_type": "stream",
     "text": [
      "Score: 0\n",
      "+------+\n",
      "|\u001b[32m⚉\u001b[0m\u001b[37m·\u001b[0m\u001b[32m┌\u001b[0m\u001b[32m┐\u001b[0m\u001b[37m·\u001b[0m\u001b[37m·\u001b[0m|\n",
      "|\u001b[32m│\u001b[0m\u001b[32m└\u001b[0m\u001b[32m┘\u001b[0m\u001b[32m│\u001b[0m\u001b[37m·\u001b[0m\u001b[37m·\u001b[0m|\n",
      "|\u001b[32m│\u001b[0m\u001b[32m┌\u001b[0m\u001b[32m┐\u001b[0m\u001b[32m│\u001b[0m\u001b[37m·\u001b[0m\u001b[37m·\u001b[0m|\n",
      "|\u001b[32m│\u001b[0m\u001b[32m│\u001b[0m\u001b[32m└\u001b[0m\u001b[32m┘\u001b[0m\u001b[37m·\u001b[0m\u001b[37m·\u001b[0m|\n",
      "|\u001b[32m└\u001b[0m\u001b[32m┘\u001b[0m\u001b[37m·\u001b[0m\u001b[37m·\u001b[0m\u001b[37m·\u001b[0m\u001b[37m·\u001b[0m|\n",
      "|\u001b[37m·\u001b[0m\u001b[37m·\u001b[0m\u001b[37m·\u001b[0m\u001b[37m·\u001b[0m\u001b[36m●\u001b[0m\u001b[37m·\u001b[0m|\n",
      "+------+\n",
      "Score: 0\n",
      "+------+\n",
      "|\u001b[32m┌\u001b[0m\u001b[32m⚉\u001b[0m\u001b[32m┌\u001b[0m\u001b[32m┐\u001b[0m\u001b[37m·\u001b[0m\u001b[37m·\u001b[0m|\n",
      "|\u001b[32m│\u001b[0m\u001b[37m·\u001b[0m\u001b[32m┘\u001b[0m\u001b[32m│\u001b[0m\u001b[37m·\u001b[0m\u001b[37m·\u001b[0m|\n",
      "|\u001b[32m│\u001b[0m\u001b[32m┌\u001b[0m\u001b[32m┐\u001b[0m\u001b[32m│\u001b[0m\u001b[37m·\u001b[0m\u001b[37m·\u001b[0m|\n",
      "|\u001b[32m│\u001b[0m\u001b[32m│\u001b[0m\u001b[32m└\u001b[0m\u001b[32m┘\u001b[0m\u001b[37m·\u001b[0m\u001b[37m·\u001b[0m|\n",
      "|\u001b[32m└\u001b[0m\u001b[32m┘\u001b[0m\u001b[37m·\u001b[0m\u001b[37m·\u001b[0m\u001b[37m·\u001b[0m\u001b[37m·\u001b[0m|\n",
      "|\u001b[37m·\u001b[0m\u001b[37m·\u001b[0m\u001b[37m·\u001b[0m\u001b[37m·\u001b[0m\u001b[36m●\u001b[0m\u001b[37m·\u001b[0m|\n",
      "+------+\n",
      "Score: 0\n",
      "+------+\n",
      "|\u001b[32m┌\u001b[0m\u001b[32m┐\u001b[0m\u001b[32m┌\u001b[0m\u001b[32m┐\u001b[0m\u001b[37m·\u001b[0m\u001b[37m·\u001b[0m|\n",
      "|\u001b[32m│\u001b[0m\u001b[32m⚉\u001b[0m\u001b[37m·\u001b[0m\u001b[32m│\u001b[0m\u001b[37m·\u001b[0m\u001b[37m·\u001b[0m|\n",
      "|\u001b[32m│\u001b[0m\u001b[32m┌\u001b[0m\u001b[32m┐\u001b[0m\u001b[32m│\u001b[0m\u001b[37m·\u001b[0m\u001b[37m·\u001b[0m|\n",
      "|\u001b[32m│\u001b[0m\u001b[32m│\u001b[0m\u001b[32m└\u001b[0m\u001b[32m┘\u001b[0m\u001b[37m·\u001b[0m\u001b[37m·\u001b[0m|\n",
      "|\u001b[32m└\u001b[0m\u001b[32m┘\u001b[0m\u001b[37m·\u001b[0m\u001b[37m·\u001b[0m\u001b[37m·\u001b[0m\u001b[37m·\u001b[0m|\n",
      "|\u001b[37m·\u001b[0m\u001b[37m·\u001b[0m\u001b[37m·\u001b[0m\u001b[37m·\u001b[0m\u001b[36m●\u001b[0m\u001b[37m·\u001b[0m|\n",
      "+------+\n",
      "Score: 0\n",
      "+------+\n",
      "|\u001b[32m┌\u001b[0m\u001b[32m┐\u001b[0m\u001b[37m·\u001b[0m\u001b[32m┐\u001b[0m\u001b[37m·\u001b[0m\u001b[37m·\u001b[0m|\n",
      "|\u001b[32m│\u001b[0m\u001b[32m└\u001b[0m\u001b[32m⚉\u001b[0m\u001b[32m│\u001b[0m\u001b[37m·\u001b[0m\u001b[37m·\u001b[0m|\n",
      "|\u001b[32m│\u001b[0m\u001b[32m┌\u001b[0m\u001b[32m┐\u001b[0m\u001b[32m│\u001b[0m\u001b[37m·\u001b[0m\u001b[37m·\u001b[0m|\n",
      "|\u001b[32m│\u001b[0m\u001b[32m│\u001b[0m\u001b[32m└\u001b[0m\u001b[32m┘\u001b[0m\u001b[37m·\u001b[0m\u001b[37m·\u001b[0m|\n",
      "|\u001b[32m└\u001b[0m\u001b[32m┘\u001b[0m\u001b[37m·\u001b[0m\u001b[37m·\u001b[0m\u001b[37m·\u001b[0m\u001b[37m·\u001b[0m|\n",
      "|\u001b[37m·\u001b[0m\u001b[37m·\u001b[0m\u001b[37m·\u001b[0m\u001b[37m·\u001b[0m\u001b[36m●\u001b[0m\u001b[37m·\u001b[0m|\n",
      "+------+\n",
      "Score: 0\n",
      "+------+\n",
      "|\u001b[32m┌\u001b[0m\u001b[32m┐\u001b[0m\u001b[32m⚉\u001b[0m\u001b[37m·\u001b[0m\u001b[37m·\u001b[0m\u001b[37m·\u001b[0m|\n",
      "|\u001b[32m│\u001b[0m\u001b[32m└\u001b[0m\u001b[32m┘\u001b[0m\u001b[32m│\u001b[0m\u001b[37m·\u001b[0m\u001b[37m·\u001b[0m|\n",
      "|\u001b[32m│\u001b[0m\u001b[32m┌\u001b[0m\u001b[32m┐\u001b[0m\u001b[32m│\u001b[0m\u001b[37m·\u001b[0m\u001b[37m·\u001b[0m|\n",
      "|\u001b[32m│\u001b[0m\u001b[32m│\u001b[0m\u001b[32m└\u001b[0m\u001b[32m┘\u001b[0m\u001b[37m·\u001b[0m\u001b[37m·\u001b[0m|\n",
      "|\u001b[32m└\u001b[0m\u001b[32m┘\u001b[0m\u001b[37m·\u001b[0m\u001b[37m·\u001b[0m\u001b[37m·\u001b[0m\u001b[37m·\u001b[0m|\n",
      "|\u001b[37m·\u001b[0m\u001b[37m·\u001b[0m\u001b[37m·\u001b[0m\u001b[37m·\u001b[0m\u001b[36m●\u001b[0m\u001b[37m·\u001b[0m|\n",
      "+------+\n",
      "Score: 0\n",
      "+------+\n",
      "|\u001b[32m┌\u001b[0m\u001b[32m┐\u001b[0m\u001b[32m┌\u001b[0m\u001b[32m⚉\u001b[0m\u001b[37m·\u001b[0m\u001b[37m·\u001b[0m|\n",
      "|\u001b[32m│\u001b[0m\u001b[32m└\u001b[0m\u001b[32m┘\u001b[0m\u001b[37m·\u001b[0m\u001b[37m·\u001b[0m\u001b[37m·\u001b[0m|\n",
      "|\u001b[32m│\u001b[0m\u001b[32m┌\u001b[0m\u001b[32m┐\u001b[0m\u001b[32m│\u001b[0m\u001b[37m·\u001b[0m\u001b[37m·\u001b[0m|\n",
      "|\u001b[32m│\u001b[0m\u001b[32m│\u001b[0m\u001b[32m└\u001b[0m\u001b[32m┘\u001b[0m\u001b[37m·\u001b[0m\u001b[37m·\u001b[0m|\n",
      "|\u001b[32m└\u001b[0m\u001b[32m┘\u001b[0m\u001b[37m·\u001b[0m\u001b[37m·\u001b[0m\u001b[37m·\u001b[0m\u001b[37m·\u001b[0m|\n",
      "|\u001b[37m·\u001b[0m\u001b[37m·\u001b[0m\u001b[37m·\u001b[0m\u001b[37m·\u001b[0m\u001b[36m●\u001b[0m\u001b[37m·\u001b[0m|\n",
      "+------+\n",
      "Score: 0\n",
      "+------+\n",
      "|\u001b[32m┌\u001b[0m\u001b[32m┐\u001b[0m\u001b[32m┌\u001b[0m\u001b[32m─\u001b[0m\u001b[32m⚉\u001b[0m\u001b[37m·\u001b[0m|\n",
      "|\u001b[32m│\u001b[0m\u001b[32m└\u001b[0m\u001b[32m┘\u001b[0m\u001b[37m·\u001b[0m\u001b[37m·\u001b[0m\u001b[37m·\u001b[0m|\n",
      "|\u001b[32m│\u001b[0m\u001b[32m┌\u001b[0m\u001b[32m┐\u001b[0m\u001b[37m·\u001b[0m\u001b[37m·\u001b[0m\u001b[37m·\u001b[0m|\n",
      "|\u001b[32m│\u001b[0m\u001b[32m│\u001b[0m\u001b[32m└\u001b[0m\u001b[32m┘\u001b[0m\u001b[37m·\u001b[0m\u001b[37m·\u001b[0m|\n",
      "|\u001b[32m└\u001b[0m\u001b[32m┘\u001b[0m\u001b[37m·\u001b[0m\u001b[37m·\u001b[0m\u001b[37m·\u001b[0m\u001b[37m·\u001b[0m|\n",
      "|\u001b[37m·\u001b[0m\u001b[37m·\u001b[0m\u001b[37m·\u001b[0m\u001b[37m·\u001b[0m\u001b[36m●\u001b[0m\u001b[37m·\u001b[0m|\n",
      "+------+\n",
      "Score: 0\n",
      "+------+\n",
      "|\u001b[32m┌\u001b[0m\u001b[32m┐\u001b[0m\u001b[32m┌\u001b[0m\u001b[32m─\u001b[0m\u001b[32m┐\u001b[0m\u001b[37m·\u001b[0m|\n",
      "|\u001b[32m│\u001b[0m\u001b[32m└\u001b[0m\u001b[32m┘\u001b[0m\u001b[37m·\u001b[0m\u001b[32m⚉\u001b[0m\u001b[37m·\u001b[0m|\n",
      "|\u001b[32m│\u001b[0m\u001b[32m┌\u001b[0m\u001b[32m┐\u001b[0m\u001b[37m·\u001b[0m\u001b[37m·\u001b[0m\u001b[37m·\u001b[0m|\n",
      "|\u001b[32m│\u001b[0m\u001b[32m│\u001b[0m\u001b[32m└\u001b[0m\u001b[37m·\u001b[0m\u001b[37m·\u001b[0m\u001b[37m·\u001b[0m|\n",
      "|\u001b[32m└\u001b[0m\u001b[32m┘\u001b[0m\u001b[37m·\u001b[0m\u001b[37m·\u001b[0m\u001b[37m·\u001b[0m\u001b[37m·\u001b[0m|\n",
      "|\u001b[37m·\u001b[0m\u001b[37m·\u001b[0m\u001b[37m·\u001b[0m\u001b[37m·\u001b[0m\u001b[36m●\u001b[0m\u001b[37m·\u001b[0m|\n",
      "+------+\n",
      "Score: 0\n",
      "+------+\n",
      "|\u001b[32m┌\u001b[0m\u001b[32m┐\u001b[0m\u001b[32m┌\u001b[0m\u001b[32m─\u001b[0m\u001b[32m┐\u001b[0m\u001b[37m·\u001b[0m|\n",
      "|\u001b[32m│\u001b[0m\u001b[32m└\u001b[0m\u001b[32m┘\u001b[0m\u001b[37m·\u001b[0m\u001b[32m│\u001b[0m\u001b[37m·\u001b[0m|\n",
      "|\u001b[32m│\u001b[0m\u001b[32m┌\u001b[0m\u001b[32m┐\u001b[0m\u001b[37m·\u001b[0m\u001b[32m⚉\u001b[0m\u001b[37m·\u001b[0m|\n",
      "|\u001b[32m│\u001b[0m\u001b[32m│\u001b[0m\u001b[37m·\u001b[0m\u001b[37m·\u001b[0m\u001b[37m·\u001b[0m\u001b[37m·\u001b[0m|\n",
      "|\u001b[32m└\u001b[0m\u001b[32m┘\u001b[0m\u001b[37m·\u001b[0m\u001b[37m·\u001b[0m\u001b[37m·\u001b[0m\u001b[37m·\u001b[0m|\n",
      "|\u001b[37m·\u001b[0m\u001b[37m·\u001b[0m\u001b[37m·\u001b[0m\u001b[37m·\u001b[0m\u001b[36m●\u001b[0m\u001b[37m·\u001b[0m|\n",
      "+------+\n",
      "Score: 0\n",
      "+------+\n",
      "|\u001b[32m┌\u001b[0m\u001b[32m┐\u001b[0m\u001b[32m┌\u001b[0m\u001b[32m─\u001b[0m\u001b[32m┐\u001b[0m\u001b[37m·\u001b[0m|\n",
      "|\u001b[32m│\u001b[0m\u001b[32m└\u001b[0m\u001b[32m┘\u001b[0m\u001b[37m·\u001b[0m\u001b[32m│\u001b[0m\u001b[37m·\u001b[0m|\n",
      "|\u001b[32m│\u001b[0m\u001b[32m┌\u001b[0m\u001b[37m·\u001b[0m\u001b[37m·\u001b[0m\u001b[32m│\u001b[0m\u001b[37m·\u001b[0m|\n",
      "|\u001b[32m│\u001b[0m\u001b[32m│\u001b[0m\u001b[37m·\u001b[0m\u001b[37m·\u001b[0m\u001b[32m⚉\u001b[0m\u001b[37m·\u001b[0m|\n",
      "|\u001b[32m└\u001b[0m\u001b[32m┘\u001b[0m\u001b[37m·\u001b[0m\u001b[37m·\u001b[0m\u001b[37m·\u001b[0m\u001b[37m·\u001b[0m|\n",
      "|\u001b[37m·\u001b[0m\u001b[37m·\u001b[0m\u001b[37m·\u001b[0m\u001b[37m·\u001b[0m\u001b[36m●\u001b[0m\u001b[37m·\u001b[0m|\n",
      "+------+\n",
      "Score: 0\n",
      "+------+\n",
      "|\u001b[32m┌\u001b[0m\u001b[32m┐\u001b[0m\u001b[32m┌\u001b[0m\u001b[32m─\u001b[0m\u001b[32m┐\u001b[0m\u001b[37m·\u001b[0m|\n",
      "|\u001b[32m│\u001b[0m\u001b[32m└\u001b[0m\u001b[32m┘\u001b[0m\u001b[37m·\u001b[0m\u001b[32m│\u001b[0m\u001b[37m·\u001b[0m|\n",
      "|\u001b[32m│\u001b[0m\u001b[37m·\u001b[0m\u001b[37m·\u001b[0m\u001b[37m·\u001b[0m\u001b[32m│\u001b[0m\u001b[37m·\u001b[0m|\n",
      "|\u001b[32m│\u001b[0m\u001b[32m│\u001b[0m\u001b[37m·\u001b[0m\u001b[37m·\u001b[0m\u001b[32m│\u001b[0m\u001b[37m·\u001b[0m|\n",
      "|\u001b[32m└\u001b[0m\u001b[32m┘\u001b[0m\u001b[37m·\u001b[0m\u001b[37m·\u001b[0m\u001b[32m⚉\u001b[0m\u001b[37m·\u001b[0m|\n",
      "|\u001b[37m·\u001b[0m\u001b[37m·\u001b[0m\u001b[37m·\u001b[0m\u001b[37m·\u001b[0m\u001b[36m●\u001b[0m\u001b[37m·\u001b[0m|\n",
      "+------+\n",
      "Score: 0\n",
      "+------+\n",
      "|\u001b[32m┌\u001b[0m\u001b[32m┐\u001b[0m\u001b[32m┌\u001b[0m\u001b[32m─\u001b[0m\u001b[32m┐\u001b[0m\u001b[37m·\u001b[0m|\n",
      "|\u001b[32m│\u001b[0m\u001b[32m└\u001b[0m\u001b[32m┘\u001b[0m\u001b[37m·\u001b[0m\u001b[32m│\u001b[0m\u001b[37m·\u001b[0m|\n",
      "|\u001b[32m│\u001b[0m\u001b[37m·\u001b[0m\u001b[37m·\u001b[0m\u001b[37m·\u001b[0m\u001b[32m│\u001b[0m\u001b[37m·\u001b[0m|\n",
      "|\u001b[32m│\u001b[0m\u001b[37m·\u001b[0m\u001b[36m●\u001b[0m\u001b[37m·\u001b[0m\u001b[32m│\u001b[0m\u001b[37m·\u001b[0m|\n",
      "|\u001b[32m└\u001b[0m\u001b[32m┘\u001b[0m\u001b[37m·\u001b[0m\u001b[37m·\u001b[0m\u001b[32m│\u001b[0m\u001b[37m·\u001b[0m|\n",
      "|\u001b[37m·\u001b[0m\u001b[37m·\u001b[0m\u001b[37m·\u001b[0m\u001b[37m·\u001b[0m\u001b[32m⚉\u001b[0m\u001b[37m·\u001b[0m|\n",
      "+------+\n"
     ]
    },
    {
     "ename": "SystemExit",
     "evalue": "You lose!",
     "output_type": "error",
     "traceback": [
      "An exception has occurred, use %tb to see the full traceback.\n",
      "\u001b[0;31mSystemExit\u001b[0m\u001b[0;31m:\u001b[0m You lose!\n"
     ]
    },
    {
     "name": "stderr",
     "output_type": "stream",
     "text": [
      "/home/matt/anaconda3/lib/python3.6/site-packages/IPython/core/interactiveshell.py:2971: UserWarning: To exit: use 'exit', 'quit', or Ctrl-D.\n",
      "  warn(\"To exit: use 'exit', 'quit', or Ctrl-D.\", stacklevel=1)\n"
     ]
    }
   ],
   "source": [
    "def step(state, info, action):\n",
    "    \n",
    "    # get head of snake\n",
    "    head = info['snake_seq'][-1]\n",
    "    i, j = head\n",
    "    \n",
    "    # implement action\n",
    "    if action==0:   i-=1 # up\n",
    "    elif action==1: j-=1 # left\n",
    "    elif action==2: i+=1 # down\n",
    "    elif action==3: j+=1 # right\n",
    "    \n",
    "    # check out of bounds\n",
    "    if i<0 or j<0 or i==m or j==n:\n",
    "        sys.exit('You lose!')\n",
    "           \n",
    "    # check collision\n",
    "    tail = info['snake_seq'].pop(0)\n",
    "    if (i,j) in info['snake_seq']:\n",
    "        sys.exit('You lose!')\n",
    "    \n",
    "    # update state\n",
    "    last_action = info['action_seq'][-1]    \n",
    "    state[head[0], head[1]] = last_action\n",
    "    state[tail[0], tail[1]] = -2\n",
    "    state[i, j] = -1\n",
    "    \n",
    "    # update info\n",
    "    info['symbol_seq'].pop(0)\n",
    "    info['action_seq'].pop(0)\n",
    "        \n",
    "    symbol = actseq2symbol[(last_action, action)]\n",
    "    info['symbol_seq'].append(symbol)\n",
    "    info['action_seq'].append(action)\n",
    "    info['snake_seq'].append((i,j))\n",
    "        \n",
    "    # update food\n",
    "    if (i,j) == info['food']:\n",
    "        open_locs = list(zip(*np.where(state==-2)))\n",
    "        ind = np.random.randint(len(open_locs), size=1)[0]\n",
    "        info['food'] = open_locs[ind]\n",
    "        info['snake_length'] +=1\n",
    "    return state, info\n",
    "\n",
    "for a in [0,3,2,3,0,3,3,2,2,2,2,2,2,2,2]:\n",
    "    state, info = step(state, info, a)\n",
    "    render_board(info2board(info))"
   ]
  },
  {
   "cell_type": "code",
   "execution_count": 599,
   "metadata": {},
   "outputs": [
    {
     "name": "stdout",
     "output_type": "stream",
     "text": [
      "Score: 0\n",
      "+------+\n",
      "|\u001b[32m→\u001b[0m\u001b[32m↓\u001b[0m\u001b[32m→\u001b[0m\u001b[32m→\u001b[0m\u001b[32m↓\u001b[0m |\n",
      "|\u001b[32m↑\u001b[0m\u001b[32m→\u001b[0m\u001b[32m↑\u001b[0m \u001b[32m↓\u001b[0m |\n",
      "|\u001b[32m↑\u001b[0m\u001b[36m★\u001b[0m  \u001b[32m↓\u001b[0m |\n",
      "|\u001b[32m↑\u001b[0m   \u001b[32m↓\u001b[0m |\n",
      "|\u001b[32m↑\u001b[0m\u001b[32m←\u001b[0m  \u001b[32m↓\u001b[0m |\n",
      "|    \u001b[32m●\u001b[0m |\n",
      "+------+\n"
     ]
    }
   ],
   "source": [
    "render(state)"
   ]
  },
  {
   "cell_type": "code",
   "execution_count": 154,
   "metadata": {},
   "outputs": [],
   "source": [
    "from random import randint\n",
    "from sys import exit\n",
    "from msvcrt import getch\n",
    "from copy import deepcopy\n",
    "import numpy as np\n",
    "import string\n",
    "import os\n",
    "\n",
    "\n",
    "class game:\n",
    "    #------------------\n",
    "    # attributes\n",
    "    #------------------\n",
    "    def __init__(self, w, h):\n",
    "        self.board = np.zeros((h,w), dtype=np.int)  # board\n",
    "        self.score = 0\n",
    "\n",
    "\n",
    "    #------------------\n",
    "    # implement move\n",
    "    def move_blocks(self):\n",
    "        def get_move():\n",
    "            while True:\n",
    "                key = ord(getch())\n",
    "                if key == 27: break\n",
    "                elif key == 224: \n",
    "                    key = ord(getch())\n",
    "                    if key == 80: return 'down'\n",
    "                    if key == 72: return 'up'\n",
    "                    if key == 77: return 'right'\n",
    "                    if key == 75: return 'left'"
   ]
  },
  {
   "cell_type": "code",
   "execution_count": null,
   "metadata": {},
   "outputs": [],
   "source": [
    "\n",
    "\n",
    "\n",
    "out = self.desc.copy().tolist()\n",
    "out = [[c.decode('utf-8') for c in line] for line in out]\n",
    "taxirow, taxicol, passidx, destidx = self.decode(self.s)\n",
    "def ul(x): return \"_\" if x == \" \" else x\n",
    "if passidx < 4:\n",
    "    out[1+taxirow][2*taxicol+1] = utils.colorize(out[1+taxirow][2*taxicol+1], 'yellow', highlight=True)\n",
    "    pi, pj = self.locs[passidx]\n",
    "    out[1+pi][2*pj+1] = utils.colorize(out[1+pi][2*pj+1], 'blue', bold=True)\n",
    "else: # passenger in taxi\n",
    "    out[1+taxirow][2*taxicol+1] = utils.colorize(ul(out[1+taxirow][2*taxicol+1]), 'green', highlight=True)\n",
    "\n",
    "di, dj = self.locs[destidx]\n",
    "out[1+di][2*dj+1] = utils.colorize(out[1+di][2*dj+1], 'magenta')\n",
    "outfile.write(\"\\n\".join([\"\".join(row) for row in out])+\"\\n\")\n",
    "if self.lastaction is not None:\n",
    "    outfile.write(\"  ({})\\n\".format([\"South\", \"North\", \"East\", \"West\", \"Pickup\", \"Dropoff\"][self.lastaction]))\n",
    "else: outfile.write(\"\\n\")\n",
    "\n",
    "# No need to return anything for human\n",
    "if mode != 'human':"
   ]
  },
  {
   "cell_type": "code",
   "execution_count": 3,
   "metadata": {},
   "outputs": [
    {
     "ename": "NameError",
     "evalue": "name 's' is not defined",
     "output_type": "error",
     "traceback": [
      "\u001b[0;31m-------------------------------------------------------------------\u001b[0m",
      "\u001b[0;31mNameError\u001b[0m                         Traceback (most recent call last)",
      "\u001b[0;32m<ipython-input-3-ded5ba42480f>\u001b[0m in \u001b[0;36m<module>\u001b[0;34m()\u001b[0m\n\u001b[0;32m----> 1\u001b[0;31m \u001b[0ms\u001b[0m\u001b[0;34m\u001b[0m\u001b[0m\n\u001b[0m",
      "\u001b[0;31mNameError\u001b[0m: name 's' is not defined"
     ]
    }
   ],
   "source": []
  },
  {
   "cell_type": "code",
   "execution_count": 12,
   "metadata": {},
   "outputs": [
    {
     "data": {
      "text/plain": [
       "gym.wrappers.time_limit.TimeLimit"
      ]
     },
     "execution_count": 12,
     "metadata": {},
     "output_type": "execute_result"
    }
   ],
   "source": [
    "import sys\n",
    "from six import StringIO\n",
    "from gym import utils\n",
    "from gym.envs.toy_text import discrete\n",
    "import numpy as np\n",
    "\n",
    "MAP = [\n",
    "    \"+---------+\",\n",
    "    \"|R: | : :G|\",\n",
    "    \"| : : : : |\",\n",
    "    \"| : : : : |\",\n",
    "    \"| | : | : |\",\n",
    "    \"|Y| : |B: |\",\n",
    "    \"+---------+\",\n",
    "]\n",
    "\n",
    "class TaxiEnv(discrete.DiscreteEnv):\n",
    "    \"\"\"\n",
    "    The Taxi Problem\n",
    "    from \"Hierarchical Reinforcement Learning with the MAXQ Value Function Decomposition\"\n",
    "    by Tom Dietterich\n",
    "    rendering:\n",
    "    - blue: passenger\n",
    "    - magenta: destination\n",
    "    - yellow: empty taxi\n",
    "    - green: full taxi\n",
    "    - other letters: locations\n",
    "    \"\"\"\n",
    "    metadata = {'render.modes': ['human', 'ansi']}\n",
    "\n",
    "    def __init__(self):\n",
    "        self.desc = np.asarray(MAP,dtype='c')\n",
    "\n",
    "        self.locs = locs = [(0,0), (0,4), (4,0), (4,3)]\n",
    "\n",
    "        nS = 500\n",
    "        nR = 5\n",
    "        nC = 5\n",
    "        maxR = nR-1\n",
    "        maxC = nC-1\n",
    "        isd = np.zeros(nS)\n",
    "        nA = 6\n",
    "        P = {s : {a : [] for a in range(nA)} for s in range(nS)}\n",
    "        for row in range(5):\n",
    "            for col in range(5):\n",
    "                for passidx in range(5):\n",
    "                    for destidx in range(4):\n",
    "                        state = self.encode(row, col, passidx, destidx)\n",
    "                        if passidx < 4 and passidx != destidx:\n",
    "                            isd[state] += 1\n",
    "                        for a in range(nA):\n",
    "                            # defaults\n",
    "                            newrow, newcol, newpassidx = row, col, passidx\n",
    "                            reward = -1\n",
    "                            done = False\n",
    "                            taxiloc = (row, col)\n",
    "\n",
    "                            if a==0:\n",
    "                                newrow = min(row+1, maxR)\n",
    "                            elif a==1:\n",
    "                                newrow = max(row-1, 0)\n",
    "                            if a==2 and self.desc[1+row,2*col+2]==b\":\":\n",
    "                                newcol = min(col+1, maxC)\n",
    "                            elif a==3 and self.desc[1+row,2*col]==b\":\":\n",
    "                                newcol = max(col-1, 0)\n",
    "                            elif a==4: # pickup\n",
    "                                if (passidx < 4 and taxiloc == locs[passidx]):\n",
    "                                    newpassidx = 4\n",
    "                                else:\n",
    "                                    reward = -10\n",
    "                            elif a==5: # dropoff\n",
    "                                if (taxiloc == locs[destidx]) and passidx==4:\n",
    "                                    done = True\n",
    "                                    reward = 20\n",
    "                                elif (taxiloc in locs) and passidx==4:\n",
    "                                    newpassidx = locs.index(taxiloc)\n",
    "                                else:\n",
    "                                    reward = -10\n",
    "                            newstate = self.encode(newrow, newcol, newpassidx, destidx)\n",
    "                            P[state][a].append((1.0, newstate, reward, done))\n",
    "        isd /= isd.sum()\n",
    "        discrete.DiscreteEnv.__init__(self, nS, nA, P, isd)\n",
    "\n",
    "    def encode(self, taxirow, taxicol, passloc, destidx):\n",
    "        # (5) 5, 5, 4\n",
    "        i = taxirow\n",
    "        i *= 5\n",
    "        i += taxicol\n",
    "        i *= 5\n",
    "        i += passloc\n",
    "        i *= 4\n",
    "        i += destidx\n",
    "        return i\n",
    "\n",
    "    def decode(self, i):\n",
    "        out = []\n",
    "        out.append(i % 4)\n",
    "        i = i // 4\n",
    "        out.append(i % 5)\n",
    "        i = i // 5\n",
    "        out.append(i % 5)\n",
    "        i = i // 5\n",
    "        out.append(i)\n",
    "        assert 0 <= i < 5\n",
    "        return reversed(out)\n",
    "\n",
    "    def render(self, mode='human'):\n",
    "        outfile = StringIO() if mode == 'ansi' else sys.stdout\n",
    "\n",
    "        out = self.desc.copy().tolist()\n",
    "        out = [[c.decode('utf-8') for c in line] for line in out]\n",
    "        taxirow, taxicol, passidx, destidx = self.decode(self.s)\n",
    "        def ul(x): return \"_\" if x == \" \" else x\n",
    "        if passidx < 4:\n",
    "            out[1+taxirow][2*taxicol+1] = utils.colorize(out[1+taxirow][2*taxicol+1], 'yellow', highlight=True)\n",
    "            pi, pj = self.locs[passidx]\n",
    "            out[1+pi][2*pj+1] = utils.colorize(out[1+pi][2*pj+1], 'blue', bold=True)\n",
    "        else: # passenger in taxi\n",
    "            out[1+taxirow][2*taxicol+1] = utils.colorize(ul(out[1+taxirow][2*taxicol+1]), 'green', highlight=True)\n",
    "\n",
    "        di, dj = self.locs[destidx]\n",
    "        out[1+di][2*dj+1] = utils.colorize(out[1+di][2*dj+1], 'magenta')\n",
    "        outfile.write(\"\\n\".join([\"\".join(row) for row in out])+\"\\n\")\n",
    "        if self.lastaction is not None:\n",
    "            outfile.write(\"  ({})\\n\".format([\"South\", \"North\", \"East\", \"West\", \"Pickup\", \"Dropoff\"][self.lastaction]))\n",
    "        else: outfile.write(\"\\n\")\n",
    "\n",
    "        # No need to return anything for human\n",
    "        if mode != 'human':\n",
    "            return outfile"
   ]
  },
  {
   "cell_type": "code",
   "execution_count": 10,
   "metadata": {},
   "outputs": [],
   "source": [
    "env.close()"
   ]
  }
 ],
 "metadata": {
  "kernelspec": {
   "display_name": "Python 3",
   "language": "python",
   "name": "python3"
  },
  "language_info": {
   "codemirror_mode": {
    "name": "ipython",
    "version": 3
   },
   "file_extension": ".py",
   "mimetype": "text/x-python",
   "name": "python",
   "nbconvert_exporter": "python",
   "pygments_lexer": "ipython3",
   "version": "3.6.5"
  }
 },
 "nbformat": 4,
 "nbformat_minor": 2
}
